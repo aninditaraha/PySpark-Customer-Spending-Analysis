{
 "cells": [
  {
   "cell_type": "code",
   "execution_count": 1,
   "id": "f4fcc3d3-a5f6-4c49-a1fd-0d5a2065b4b1",
   "metadata": {},
   "outputs": [
    {
     "name": "stdout",
     "output_type": "stream",
     "text": [
      "Requirement already satisfied: pyspark in c:\\python\\lib\\site-packages (3.5.2)\n",
      "Requirement already satisfied: py4j==0.10.9.7 in c:\\python\\lib\\site-packages (from pyspark) (0.10.9.7)\n"
     ]
    }
   ],
   "source": [
    "!pip install pyspark\n"
   ]
  },
  {
   "cell_type": "code",
   "execution_count": 2,
   "id": "71c88789-985c-4631-a86e-761587215d77",
   "metadata": {},
   "outputs": [],
   "source": [
    "from pyspark.sql import SparkSession\n",
    "\n",
    "# Correctly spelled SparkSession\n",
    "spark = SparkSession.builder.appName('Customers').getOrCreate()"
   ]
  },
  {
   "cell_type": "code",
   "execution_count": 3,
   "id": "ea456352-ad5c-4682-935e-e5745ce96c98",
   "metadata": {},
   "outputs": [],
   "source": [
    "from pyspark.ml.regression import LinearRegression"
   ]
  },
  {
   "cell_type": "code",
   "execution_count": null,
   "id": "940e5834-a7eb-4777-9536-a45f352918db",
   "metadata": {},
   "outputs": [],
   "source": [
    "dataset=spark.read.csv(\"C:\\\\Users\\\\HP\\\\Downloads\\\\Ecommerce_Customers.csv\",inferSchema=True,header=True)\n",
    "    "
   ]
  },
  {
   "cell_type": "code",
   "execution_count": null,
   "id": "f293d2ef-2b14-4b50-ab03-6e03db1631b8",
   "metadata": {},
   "outputs": [],
   "source": [
    "dataset"
   ]
  },
  {
   "cell_type": "code",
   "execution_count": null,
   "id": "5cd2250d-9fd6-40c9-a151-2ae4dc8b308c",
   "metadata": {},
   "outputs": [],
   "source": [
    "dataset.show()"
   ]
  },
  {
   "cell_type": "code",
   "execution_count": null,
   "id": "95da248d-5936-4ac8-a5d4-d7448c93410b",
   "metadata": {},
   "outputs": [],
   "source": [
    "dataset.printSchema()"
   ]
  },
  {
   "cell_type": "code",
   "execution_count": null,
   "id": "8fd7f525-4050-45a3-83db-16e8932cf0b6",
   "metadata": {},
   "outputs": [],
   "source": [
    "from pyspark.ml.linalg import Vectors\n",
    "from pyspark.ml.feature import VectorAssembler"
   ]
  },
  {
   "cell_type": "code",
   "execution_count": null,
   "id": "4eb61747-0777-4262-a4c5-86844e288aec",
   "metadata": {},
   "outputs": [],
   "source": [
    "featuresassembler=VectorAssembler(inputCols=[\"Avg Session Length\",\"Time on App\",\"Length of Membership\"],outputCol=\"Independent Features\")"
   ]
  },
  {
   "cell_type": "code",
   "execution_count": null,
   "id": "4d5f7727-5f98-4557-9ae4-ed0c7e34fbd3",
   "metadata": {},
   "outputs": [],
   "source": [
    "output=featuresassembler.transform(dataset)"
   ]
  },
  {
   "cell_type": "code",
   "execution_count": null,
   "id": "bab330a8-047d-4a1d-a95f-468b711c51eb",
   "metadata": {},
   "outputs": [],
   "source": [
    "output.show()"
   ]
  },
  {
   "cell_type": "code",
   "execution_count": null,
   "id": "531d0e13-9eea-4875-b536-f6d3b6d1b033",
   "metadata": {},
   "outputs": [],
   "source": [
    "output.select(\"Independent Features\").show()"
   ]
  },
  {
   "cell_type": "code",
   "execution_count": null,
   "id": "e65cb2e6-3654-4da4-9fe1-397b27a3d0d8",
   "metadata": {},
   "outputs": [],
   "source": [
    "output.columns"
   ]
  },
  {
   "cell_type": "code",
   "execution_count": null,
   "id": "2d1d436c-eac9-476b-8589-bafc3deaae19",
   "metadata": {},
   "outputs": [],
   "source": [
    "finalized_data=output.select(\"Independent Features\",\"Yearly Amount Spent\")"
   ]
  },
  {
   "cell_type": "code",
   "execution_count": null,
   "id": "4eb6177f-7836-4f21-b31f-823f898e515c",
   "metadata": {},
   "outputs": [],
   "source": [
    "finalized_data.show()"
   ]
  },
  {
   "cell_type": "code",
   "execution_count": null,
   "id": "c9fa2efb-4aeb-4cea-a856-7d92035d7e38",
   "metadata": {},
   "outputs": [],
   "source": [
    "train_data,test_data=finalized_data.randomSplit([0.75,0.25])"
   ]
  },
  {
   "cell_type": "code",
   "execution_count": null,
   "id": "b38cbfe6-383a-42f1-8728-04cc2fb646cd",
   "metadata": {},
   "outputs": [],
   "source": [
    "regressor=LinearRegression(featuresCol='Independent Features',labelCol='Yearly Amount Spent')\n",
    "regressor=regressor.fit(train_data)"
   ]
  },
  {
   "cell_type": "raw",
   "id": "e2a449ec-3e3a-48c8-94da-d41bd6853628",
   "metadata": {},
   "source": [
    "regressor.coefficients"
   ]
  },
  {
   "cell_type": "code",
   "execution_count": 18,
   "id": "f30c5a59-af9d-49ff-a039-ff7b15f31f42",
   "metadata": {},
   "outputs": [
    {
     "data": {
      "text/plain": [
       "-1051.6759272430227"
      ]
     },
     "execution_count": 18,
     "metadata": {},
     "output_type": "execute_result"
    }
   ],
   "source": [
    "regressor.intercept"
   ]
  },
  {
   "cell_type": "code",
   "execution_count": 19,
   "id": "e9603175-0d0f-4f85-afa5-d8ab2993d2be",
   "metadata": {},
   "outputs": [
    {
     "name": "stdout",
     "output_type": "stream",
     "text": [
      "Coefficients:  [26.05587125765135,39.252593853281034,61.225574922510106]\n"
     ]
    }
   ],
   "source": [
    "print(\"Coefficients: \", regressor.coefficients)"
   ]
  },
  {
   "cell_type": "code",
   "execution_count": 20,
   "id": "dafcddd5-8dba-4a89-a08d-280943d0515e",
   "metadata": {},
   "outputs": [],
   "source": [
    "pred_results=regressor.evaluate(test_data)"
   ]
  },
  {
   "cell_type": "code",
   "execution_count": 21,
   "id": "9496a826-0373-4fa8-8050-780feb2bf165",
   "metadata": {},
   "outputs": [
    {
     "name": "stdout",
     "output_type": "stream",
     "text": [
      "+--------------------+-------------------+------------------+\n",
      "|Independent Features|Yearly Amount Spent|        prediction|\n",
      "+--------------------+-------------------+------------------+\n",
      "|[29.53242897,10.9...|        408.6403511| 395.8212187205122|\n",
      "|[30.57436368,11.3...|        442.0644138| 440.2206253194099|\n",
      "|[30.97167564,11.7...|        494.6386098| 486.8112293623817|\n",
      "|[31.04722214,11.1...|        392.4973992|386.01358783032515|\n",
      "|[31.12809005,13.2...|        557.2526867|   563.86117467556|\n",
      "|[31.42522688,13.2...|        530.7667187| 534.3311212260696|\n",
      "|[31.57020083,13.3...|        545.9454921| 563.5538416075922|\n",
      "|[31.57613197,12.5...|         541.226584| 542.3346643088651|\n",
      "|[31.62536013,13.1...|        376.3369008|381.50014230415445|\n",
      "|[31.65480968,13.0...|        475.2634237| 468.2708219949916|\n",
      "|[31.81861657,11.2...|        446.4186734|448.01214954414604|\n",
      "|[31.86483255,13.4...|        439.8912805| 450.8375084287402|\n",
      "|[31.93654862,11.8...|        427.1993849|440.28749463485406|\n",
      "|[32.00475302,11.3...|        463.7459811| 462.3905334118208|\n",
      "|[32.00850452,12.0...|         443.197221| 451.7617717726105|\n",
      "|[32.01807401,10.0...|        357.7831107|338.52664848825293|\n",
      "|[32.05426185,13.1...|        561.8746577| 556.5633359122503|\n",
      "|[32.07054622,11.7...|        532.7517876| 530.5064750400584|\n",
      "|[32.07759004,10.3...|        401.0331352| 400.5975339033871|\n",
      "|[32.11640012,12.3...|        463.4849954| 460.2773659062286|\n",
      "+--------------------+-------------------+------------------+\n",
      "only showing top 20 rows\n",
      "\n"
     ]
    }
   ],
   "source": [
    "pred_results.predictions.show()"
   ]
  },
  {
   "cell_type": "code",
   "execution_count": null,
   "id": "81116205-7395-4ca7-86fb-25c83747040e",
   "metadata": {},
   "outputs": [],
   "source": []
  }
 ],
 "metadata": {
  "kernelspec": {
   "display_name": "Python 3 (ipykernel)",
   "language": "python",
   "name": "python3"
  },
  "language_info": {
   "codemirror_mode": {
    "name": "ipython",
    "version": 3
   },
   "file_extension": ".py",
   "mimetype": "text/x-python",
   "name": "python",
   "nbconvert_exporter": "python",
   "pygments_lexer": "ipython3",
   "version": "3.11.7"
  }
 },
 "nbformat": 4,
 "nbformat_minor": 5
}
